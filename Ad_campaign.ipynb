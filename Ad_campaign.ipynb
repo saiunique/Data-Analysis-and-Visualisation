{
 "cells": [
  {
   "cell_type": "code",
   "execution_count": 1,
   "metadata": {},
   "outputs": [],
   "source": [
    "import pandas as pd\n",
    "import numpy as np\n",
    "import seaborn as sns \n",
    "import matplotlib.pyplot as plt"
   ]
  },
  {
   "cell_type": "markdown",
   "metadata": {},
   "source": [
    "DATA SET INFORMATION:\n",
    "    \n",
    "The dataset consists of feature vectors belonging to 4571 sessions.\n",
    "Dataset contains 8 columns  date,campaign,adgroup,ad,impressions,clicks,cost,conversions,revenue.There are total 3 categorical columns and 5 numerical columns.\n",
    "\n"
   ]
  },
  {
   "cell_type": "markdown",
   "metadata": {},
   "source": [
    "ATTRIBUTE INFORMATION:\n",
    "\n",
    "Raw metrics:\n",
    "1.Impressions - Number of times the ad was shown\n",
    "2.Clicks - Number of times the ad clicked shown\n",
    "3.Cost - Amount spent to show ad\n",
    "4.Conversions - Number of transactions received (higher the better)\n",
    "5.Revenue - Total value of transactions received (higher the better)\n",
    "\n",
    "Efficiency metrics: \n",
    "Needs to be calculated and are based on raw metrics\n",
    "CTR  - Clicks / Impression (higher the better - used to evaluate if the users find the ad relevant)\n",
    "CPC - Cost / Click (lower the better - used to evaluate if the cost for getting a click)\n",
    "CPA - Cost / Conversion (lower the better - used to evaluate if the cost for getting a conversion)\n",
    "ROI - Revenue/Cost (higher the better - used to evaluate the effectiveness of the advertising budget spent)\n",
    "\n",
    "    \n"
   ]
  },
  {
   "cell_type": "code",
   "execution_count": 2,
   "metadata": {},
   "outputs": [],
   "source": [
    "data_raw=pd.read_csv(\"https://s3.amazonaws.com/backup.deltax.com/dump/data.csv\")"
   ]
  },
  {
   "cell_type": "code",
   "execution_count": 3,
   "metadata": {},
   "outputs": [
    {
     "data": {
      "text/html": [
       "<div>\n",
       "<style scoped>\n",
       "    .dataframe tbody tr th:only-of-type {\n",
       "        vertical-align: middle;\n",
       "    }\n",
       "\n",
       "    .dataframe tbody tr th {\n",
       "        vertical-align: top;\n",
       "    }\n",
       "\n",
       "    .dataframe thead th {\n",
       "        text-align: right;\n",
       "    }\n",
       "</style>\n",
       "<table border=\"1\" class=\"dataframe\">\n",
       "  <thead>\n",
       "    <tr style=\"text-align: right;\">\n",
       "      <th></th>\n",
       "      <th>date</th>\n",
       "      <th>campaign</th>\n",
       "      <th>adgroup</th>\n",
       "      <th>ad</th>\n",
       "      <th>impressions</th>\n",
       "      <th>clicks</th>\n",
       "      <th>cost</th>\n",
       "      <th>conversions</th>\n",
       "      <th>revenue</th>\n",
       "    </tr>\n",
       "  </thead>\n",
       "  <tbody>\n",
       "    <tr>\n",
       "      <th>0</th>\n",
       "      <td>2020-08-01</td>\n",
       "      <td>campaign 1</td>\n",
       "      <td>adgroup 1</td>\n",
       "      <td>ad 1</td>\n",
       "      <td>24</td>\n",
       "      <td>6</td>\n",
       "      <td>0.08</td>\n",
       "      <td>0</td>\n",
       "      <td>0.00</td>\n",
       "    </tr>\n",
       "    <tr>\n",
       "      <th>1</th>\n",
       "      <td>2020-08-01</td>\n",
       "      <td>campaign 1</td>\n",
       "      <td>adgroup 2</td>\n",
       "      <td>ad 1</td>\n",
       "      <td>1</td>\n",
       "      <td>0</td>\n",
       "      <td>0.00</td>\n",
       "      <td>0</td>\n",
       "      <td>0.00</td>\n",
       "    </tr>\n",
       "    <tr>\n",
       "      <th>2</th>\n",
       "      <td>2020-08-01</td>\n",
       "      <td>campaign 1</td>\n",
       "      <td>adgroup 3</td>\n",
       "      <td>ad 1</td>\n",
       "      <td>13</td>\n",
       "      <td>4</td>\n",
       "      <td>0.04</td>\n",
       "      <td>0</td>\n",
       "      <td>0.00</td>\n",
       "    </tr>\n",
       "    <tr>\n",
       "      <th>3</th>\n",
       "      <td>2020-08-01</td>\n",
       "      <td>campaign 1</td>\n",
       "      <td>adgroup 4</td>\n",
       "      <td>ad 1</td>\n",
       "      <td>5</td>\n",
       "      <td>4</td>\n",
       "      <td>0.08</td>\n",
       "      <td>0</td>\n",
       "      <td>0.00</td>\n",
       "    </tr>\n",
       "    <tr>\n",
       "      <th>4</th>\n",
       "      <td>2020-08-01</td>\n",
       "      <td>campaign 1</td>\n",
       "      <td>adgroup 1</td>\n",
       "      <td>ad 2</td>\n",
       "      <td>247</td>\n",
       "      <td>126</td>\n",
       "      <td>1.29</td>\n",
       "      <td>4</td>\n",
       "      <td>925.71</td>\n",
       "    </tr>\n",
       "  </tbody>\n",
       "</table>\n",
       "</div>"
      ],
      "text/plain": [
       "         date    campaign    adgroup    ad  impressions  clicks  cost  \\\n",
       "0  2020-08-01  campaign 1  adgroup 1  ad 1           24       6  0.08   \n",
       "1  2020-08-01  campaign 1  adgroup 2  ad 1            1       0  0.00   \n",
       "2  2020-08-01  campaign 1  adgroup 3  ad 1           13       4  0.04   \n",
       "3  2020-08-01  campaign 1  adgroup 4  ad 1            5       4  0.08   \n",
       "4  2020-08-01  campaign 1  adgroup 1  ad 2          247     126  1.29   \n",
       "\n",
       "   conversions  revenue  \n",
       "0            0     0.00  \n",
       "1            0     0.00  \n",
       "2            0     0.00  \n",
       "3            0     0.00  \n",
       "4            4   925.71  "
      ]
     },
     "execution_count": 3,
     "metadata": {},
     "output_type": "execute_result"
    }
   ],
   "source": [
    "data_raw.head()"
   ]
  },
  {
   "cell_type": "markdown",
   "metadata": {},
   "source": [
    "The above data is pre processed in Microsoft Power Bi and converted into a CSV file."
   ]
  },
  {
   "cell_type": "code",
   "execution_count": 4,
   "metadata": {},
   "outputs": [],
   "source": [
    "data=pd.read_csv('ad_campaign.csv')"
   ]
  },
  {
   "cell_type": "markdown",
   "metadata": {},
   "source": [
    "Extra columns such as Year,Quarter,month,day,Week_Even,Weekday and the Efficiency metrics are calculated"
   ]
  },
  {
   "cell_type": "code",
   "execution_count": 5,
   "metadata": {},
   "outputs": [
    {
     "data": {
      "text/html": [
       "<div>\n",
       "<style scoped>\n",
       "    .dataframe tbody tr th:only-of-type {\n",
       "        vertical-align: middle;\n",
       "    }\n",
       "\n",
       "    .dataframe tbody tr th {\n",
       "        vertical-align: top;\n",
       "    }\n",
       "\n",
       "    .dataframe thead th {\n",
       "        text-align: right;\n",
       "    }\n",
       "</style>\n",
       "<table border=\"1\" class=\"dataframe\">\n",
       "  <thead>\n",
       "    <tr style=\"text-align: right;\">\n",
       "      <th></th>\n",
       "      <th>Year</th>\n",
       "      <th>Quarter</th>\n",
       "      <th>Month</th>\n",
       "      <th>Day</th>\n",
       "      <th>Week_Even</th>\n",
       "      <th>Weekday</th>\n",
       "      <th>ADGROUP</th>\n",
       "      <th>AD</th>\n",
       "      <th>CLICKS</th>\n",
       "      <th>CONVERSIONS</th>\n",
       "      <th>COST</th>\n",
       "      <th>IMPRESSIONS</th>\n",
       "      <th>CPA</th>\n",
       "      <th>CPC</th>\n",
       "      <th>CTR</th>\n",
       "      <th>REVENUE</th>\n",
       "      <th>ROI</th>\n",
       "    </tr>\n",
       "  </thead>\n",
       "  <tbody>\n",
       "    <tr>\n",
       "      <th>0</th>\n",
       "      <td>2020</td>\n",
       "      <td>Qtr 3</td>\n",
       "      <td>August</td>\n",
       "      <td>1</td>\n",
       "      <td>ODD</td>\n",
       "      <td>Saturday</td>\n",
       "      <td>adgroup 1</td>\n",
       "      <td>ad 1</td>\n",
       "      <td>6</td>\n",
       "      <td>0</td>\n",
       "      <td>0.08</td>\n",
       "      <td>24</td>\n",
       "      <td>0.000</td>\n",
       "      <td>0.013</td>\n",
       "      <td>25.00%</td>\n",
       "      <td>0</td>\n",
       "      <td>0</td>\n",
       "    </tr>\n",
       "    <tr>\n",
       "      <th>1</th>\n",
       "      <td>2020</td>\n",
       "      <td>Qtr 3</td>\n",
       "      <td>August</td>\n",
       "      <td>1</td>\n",
       "      <td>ODD</td>\n",
       "      <td>Saturday</td>\n",
       "      <td>adgroup 1</td>\n",
       "      <td>ad 10</td>\n",
       "      <td>2</td>\n",
       "      <td>0</td>\n",
       "      <td>0.02</td>\n",
       "      <td>5</td>\n",
       "      <td>0.000</td>\n",
       "      <td>0.010</td>\n",
       "      <td>40.00%</td>\n",
       "      <td>0</td>\n",
       "      <td>0</td>\n",
       "    </tr>\n",
       "    <tr>\n",
       "      <th>2</th>\n",
       "      <td>2020</td>\n",
       "      <td>Qtr 3</td>\n",
       "      <td>August</td>\n",
       "      <td>1</td>\n",
       "      <td>ODD</td>\n",
       "      <td>Saturday</td>\n",
       "      <td>adgroup 1</td>\n",
       "      <td>ad 2</td>\n",
       "      <td>126</td>\n",
       "      <td>4</td>\n",
       "      <td>1.29</td>\n",
       "      <td>247</td>\n",
       "      <td>0.322</td>\n",
       "      <td>0.010</td>\n",
       "      <td>51.00%</td>\n",
       "      <td>926</td>\n",
       "      <td>718</td>\n",
       "    </tr>\n",
       "  </tbody>\n",
       "</table>\n",
       "</div>"
      ],
      "text/plain": [
       "   Year Quarter   Month  Day Week_Even   Weekday    ADGROUP     AD  CLICKS  \\\n",
       "0  2020   Qtr 3  August    1       ODD  Saturday  adgroup 1   ad 1       6   \n",
       "1  2020   Qtr 3  August    1       ODD  Saturday  adgroup 1  ad 10       2   \n",
       "2  2020   Qtr 3  August    1       ODD  Saturday  adgroup 1   ad 2     126   \n",
       "\n",
       "   CONVERSIONS  COST  IMPRESSIONS    CPA    CPC     CTR  REVENUE  ROI  \n",
       "0            0  0.08           24  0.000  0.013  25.00%        0    0  \n",
       "1            0  0.02            5  0.000  0.010  40.00%        0    0  \n",
       "2            4  1.29          247  0.322  0.010  51.00%      926  718  "
      ]
     },
     "execution_count": 5,
     "metadata": {},
     "output_type": "execute_result"
    }
   ],
   "source": [
    "data.head(3)"
   ]
  },
  {
   "cell_type": "code",
   "execution_count": 6,
   "metadata": {},
   "outputs": [],
   "source": [
    "data['date']=data_raw['date']"
   ]
  },
  {
   "cell_type": "markdown",
   "metadata": {},
   "source": [
    "Checking for NA and NULL values\n",
    "\n",
    "\n",
    "There is no requirement of imputation for missing values since there are Zero missing and NA values."
   ]
  },
  {
   "cell_type": "code",
   "execution_count": 7,
   "metadata": {},
   "outputs": [
    {
     "data": {
      "text/plain": [
       "Year           0\n",
       "Quarter        0\n",
       "Month          0\n",
       "Day            0\n",
       "Week_Even      0\n",
       "Weekday        0\n",
       "ADGROUP        0\n",
       "AD             0\n",
       "CLICKS         0\n",
       "CONVERSIONS    0\n",
       "COST           0\n",
       "IMPRESSIONS    0\n",
       "CPA            0\n",
       "CPC            0\n",
       "CTR            0\n",
       "REVENUE        0\n",
       "ROI            0\n",
       "date           0\n",
       "dtype: int64"
      ]
     },
     "execution_count": 7,
     "metadata": {},
     "output_type": "execute_result"
    }
   ],
   "source": [
    "data.isnull().sum()"
   ]
  },
  {
   "cell_type": "code",
   "execution_count": 8,
   "metadata": {},
   "outputs": [
    {
     "data": {
      "text/plain": [
       "Year           0\n",
       "Quarter        0\n",
       "Month          0\n",
       "Day            0\n",
       "Week_Even      0\n",
       "Weekday        0\n",
       "ADGROUP        0\n",
       "AD             0\n",
       "CLICKS         0\n",
       "CONVERSIONS    0\n",
       "COST           0\n",
       "IMPRESSIONS    0\n",
       "CPA            0\n",
       "CPC            0\n",
       "CTR            0\n",
       "REVENUE        0\n",
       "ROI            0\n",
       "date           0\n",
       "dtype: int64"
      ]
     },
     "execution_count": 8,
     "metadata": {},
     "output_type": "execute_result"
    }
   ],
   "source": [
    "data.isna().sum()"
   ]
  },
  {
   "cell_type": "code",
   "execution_count": 9,
   "metadata": {},
   "outputs": [
    {
     "name": "stdout",
     "output_type": "stream",
     "text": [
      "<class 'pandas.core.frame.DataFrame'>\n",
      "RangeIndex: 4237 entries, 0 to 4236\n",
      "Data columns (total 18 columns):\n",
      "Year           4237 non-null int64\n",
      "Quarter        4237 non-null object\n",
      "Month          4237 non-null object\n",
      "Day            4237 non-null int64\n",
      "Week_Even      4237 non-null object\n",
      "Weekday        4237 non-null object\n",
      "ADGROUP        4237 non-null object\n",
      "AD             4237 non-null object\n",
      "CLICKS         4237 non-null int64\n",
      "CONVERSIONS    4237 non-null int64\n",
      "COST           4237 non-null float64\n",
      "IMPRESSIONS    4237 non-null int64\n",
      "CPA            4237 non-null float64\n",
      "CPC            4237 non-null float64\n",
      "CTR            4237 non-null object\n",
      "REVENUE        4237 non-null int64\n",
      "ROI            4237 non-null int64\n",
      "date           4237 non-null object\n",
      "dtypes: float64(3), int64(7), object(8)\n",
      "memory usage: 595.9+ KB\n"
     ]
    }
   ],
   "source": [
    "data.info()"
   ]
  },
  {
   "cell_type": "markdown",
   "metadata": {},
   "source": [
    "data.describe() shows the statistical information about numerical columns.\n",
    "\n",
    "1.From the Average and Maximum values of columns clicks,conversions,cost,impressions and revenue.It is observed that the data is positively skewed and log or any other transformation methods needs to be applied for normal or Guassian distribution of the data.This data serves as test/train data for ML algorithms which is out of scope for the project.\n",
    "\n",
    "\n",
    "2.Standard deviation of revenue is far greater than mean.This signifies the spread of the data is far away from the mean."
   ]
  },
  {
   "cell_type": "code",
   "execution_count": 10,
   "metadata": {
    "scrolled": false
   },
   "outputs": [
    {
     "data": {
      "text/html": [
       "<div>\n",
       "<style scoped>\n",
       "    .dataframe tbody tr th:only-of-type {\n",
       "        vertical-align: middle;\n",
       "    }\n",
       "\n",
       "    .dataframe tbody tr th {\n",
       "        vertical-align: top;\n",
       "    }\n",
       "\n",
       "    .dataframe thead th {\n",
       "        text-align: right;\n",
       "    }\n",
       "</style>\n",
       "<table border=\"1\" class=\"dataframe\">\n",
       "  <thead>\n",
       "    <tr style=\"text-align: right;\">\n",
       "      <th></th>\n",
       "      <th>Year</th>\n",
       "      <th>Day</th>\n",
       "      <th>CLICKS</th>\n",
       "      <th>CONVERSIONS</th>\n",
       "      <th>COST</th>\n",
       "      <th>IMPRESSIONS</th>\n",
       "      <th>CPA</th>\n",
       "      <th>CPC</th>\n",
       "      <th>REVENUE</th>\n",
       "      <th>ROI</th>\n",
       "    </tr>\n",
       "  </thead>\n",
       "  <tbody>\n",
       "    <tr>\n",
       "      <th>count</th>\n",
       "      <td>4237.000000</td>\n",
       "      <td>4237.000000</td>\n",
       "      <td>4237.000000</td>\n",
       "      <td>4237.000000</td>\n",
       "      <td>4237.000000</td>\n",
       "      <td>4237.000000</td>\n",
       "      <td>4237.000000</td>\n",
       "      <td>4237.000000</td>\n",
       "      <td>4237.000000</td>\n",
       "      <td>4237.000000</td>\n",
       "    </tr>\n",
       "    <tr>\n",
       "      <th>mean</th>\n",
       "      <td>2020.313901</td>\n",
       "      <td>15.524664</td>\n",
       "      <td>46.757376</td>\n",
       "      <td>1.444654</td>\n",
       "      <td>3.021621</td>\n",
       "      <td>99.938164</td>\n",
       "      <td>0.600570</td>\n",
       "      <td>0.063672</td>\n",
       "      <td>250.142082</td>\n",
       "      <td>164.710408</td>\n",
       "    </tr>\n",
       "    <tr>\n",
       "      <th>std</th>\n",
       "      <td>0.464132</td>\n",
       "      <td>8.798160</td>\n",
       "      <td>110.038510</td>\n",
       "      <td>5.798885</td>\n",
       "      <td>15.629210</td>\n",
       "      <td>217.927633</td>\n",
       "      <td>2.125817</td>\n",
       "      <td>0.146050</td>\n",
       "      <td>1226.192008</td>\n",
       "      <td>856.608221</td>\n",
       "    </tr>\n",
       "    <tr>\n",
       "      <th>min</th>\n",
       "      <td>2020.000000</td>\n",
       "      <td>1.000000</td>\n",
       "      <td>0.000000</td>\n",
       "      <td>0.000000</td>\n",
       "      <td>0.000000</td>\n",
       "      <td>1.000000</td>\n",
       "      <td>0.000000</td>\n",
       "      <td>0.000000</td>\n",
       "      <td>0.000000</td>\n",
       "      <td>0.000000</td>\n",
       "    </tr>\n",
       "    <tr>\n",
       "      <th>25%</th>\n",
       "      <td>2020.000000</td>\n",
       "      <td>8.000000</td>\n",
       "      <td>2.000000</td>\n",
       "      <td>0.000000</td>\n",
       "      <td>0.040000</td>\n",
       "      <td>6.000000</td>\n",
       "      <td>0.000000</td>\n",
       "      <td>0.011000</td>\n",
       "      <td>0.000000</td>\n",
       "      <td>0.000000</td>\n",
       "    </tr>\n",
       "    <tr>\n",
       "      <th>50%</th>\n",
       "      <td>2020.000000</td>\n",
       "      <td>16.000000</td>\n",
       "      <td>7.000000</td>\n",
       "      <td>0.000000</td>\n",
       "      <td>0.210000</td>\n",
       "      <td>17.000000</td>\n",
       "      <td>0.000000</td>\n",
       "      <td>0.016000</td>\n",
       "      <td>0.000000</td>\n",
       "      <td>0.000000</td>\n",
       "    </tr>\n",
       "    <tr>\n",
       "      <th>75%</th>\n",
       "      <td>2021.000000</td>\n",
       "      <td>23.000000</td>\n",
       "      <td>41.000000</td>\n",
       "      <td>1.000000</td>\n",
       "      <td>1.410000</td>\n",
       "      <td>90.000000</td>\n",
       "      <td>0.246000</td>\n",
       "      <td>0.059000</td>\n",
       "      <td>99.000000</td>\n",
       "      <td>43.000000</td>\n",
       "    </tr>\n",
       "    <tr>\n",
       "      <th>max</th>\n",
       "      <td>2021.000000</td>\n",
       "      <td>31.000000</td>\n",
       "      <td>1874.000000</td>\n",
       "      <td>100.000000</td>\n",
       "      <td>572.020000</td>\n",
       "      <td>3447.000000</td>\n",
       "      <td>57.450000</td>\n",
       "      <td>3.810000</td>\n",
       "      <td>26713.000000</td>\n",
       "      <td>24900.000000</td>\n",
       "    </tr>\n",
       "  </tbody>\n",
       "</table>\n",
       "</div>"
      ],
      "text/plain": [
       "              Year          Day       CLICKS  CONVERSIONS         COST  \\\n",
       "count  4237.000000  4237.000000  4237.000000  4237.000000  4237.000000   \n",
       "mean   2020.313901    15.524664    46.757376     1.444654     3.021621   \n",
       "std       0.464132     8.798160   110.038510     5.798885    15.629210   \n",
       "min    2020.000000     1.000000     0.000000     0.000000     0.000000   \n",
       "25%    2020.000000     8.000000     2.000000     0.000000     0.040000   \n",
       "50%    2020.000000    16.000000     7.000000     0.000000     0.210000   \n",
       "75%    2021.000000    23.000000    41.000000     1.000000     1.410000   \n",
       "max    2021.000000    31.000000  1874.000000   100.000000   572.020000   \n",
       "\n",
       "       IMPRESSIONS          CPA          CPC       REVENUE           ROI  \n",
       "count  4237.000000  4237.000000  4237.000000   4237.000000   4237.000000  \n",
       "mean     99.938164     0.600570     0.063672    250.142082    164.710408  \n",
       "std     217.927633     2.125817     0.146050   1226.192008    856.608221  \n",
       "min       1.000000     0.000000     0.000000      0.000000      0.000000  \n",
       "25%       6.000000     0.000000     0.011000      0.000000      0.000000  \n",
       "50%      17.000000     0.000000     0.016000      0.000000      0.000000  \n",
       "75%      90.000000     0.246000     0.059000     99.000000     43.000000  \n",
       "max    3447.000000    57.450000     3.810000  26713.000000  24900.000000  "
      ]
     },
     "execution_count": 10,
     "metadata": {},
     "output_type": "execute_result"
    }
   ],
   "source": [
    "data.describe()"
   ]
  },
  {
   "cell_type": "markdown",
   "metadata": {},
   "source": [
    "Variance of the numerical columns is very high.Generally high variance data is considered as bad data for ML algorithms.Once the tranformation methods are applied for normal distribution variance of the data will be reduced drastically."
   ]
  },
  {
   "cell_type": "code",
   "execution_count": 11,
   "metadata": {},
   "outputs": [
    {
     "data": {
      "text/plain": [
       "Year           2.154181e-01\n",
       "Day            7.740762e+01\n",
       "CLICKS         1.210847e+04\n",
       "CONVERSIONS    3.362707e+01\n",
       "COST           2.442722e+02\n",
       "IMPRESSIONS    4.749245e+04\n",
       "CPA            4.519099e+00\n",
       "CPC            2.133070e-02\n",
       "REVENUE        1.503547e+06\n",
       "ROI            7.337776e+05\n",
       "dtype: float64"
      ]
     },
     "execution_count": 11,
     "metadata": {},
     "output_type": "execute_result"
    }
   ],
   "source": [
    "data.var()"
   ]
  },
  {
   "cell_type": "markdown",
   "metadata": {},
   "source": [
    "Below Heat map and data.corr() shows the correlation between the numerical columns.Below points are observed from the data\n",
    "\n",
    "1.High positively correlated columns are found to be Clicks with Revenue,Impressions and conversions with above 0.8\n",
    "\n",
    "2.High positively correlated columns are found to be Conversions with Revenue,Impressions with above 0.8.Increase in clicks,impressions and conversions has high probablity of revenue generation.\n",
    "\n",
    "3.Cost is positively correlated to Revenue with 0.57 value which is relatively less compared to the above correaltion index values."
   ]
  },
  {
   "cell_type": "code",
   "execution_count": 12,
   "metadata": {},
   "outputs": [
    {
     "data": {
      "text/plain": [
       "<matplotlib.axes._subplots.AxesSubplot at 0x21ef6caf518>"
      ]
     },
     "execution_count": 12,
     "metadata": {},
     "output_type": "execute_result"
    },
    {
     "data": {
      "image/png": "[encoded data removed]",
      "text/plain": [
       "<Figure size 576x576 with 2 Axes>"
      ]
     },
     "metadata": {
      "needs_background": "light"
     },
     "output_type": "display_data"
    }
   ],
   "source": [
    "fig=plt.figure(figsize=(8,8))\n",
    "plt.title('Correlation between the numerical columns')\n",
    "ax=fig.gca()\n",
    "data_heat=data.drop(['Year','Day'],axis=1)\n",
    "sns.heatmap(data_heat.corr(),ax=ax)"
   ]
  },
  {
   "cell_type": "code",
   "execution_count": 13,
   "metadata": {},
   "outputs": [
    {
     "data": {
      "text/html": [
       "<div>\n",
       "<style scoped>\n",
       "    .dataframe tbody tr th:only-of-type {\n",
       "        vertical-align: middle;\n",
       "    }\n",
       "\n",
       "    .dataframe tbody tr th {\n",
       "        vertical-align: top;\n",
       "    }\n",
       "\n",
       "    .dataframe thead th {\n",
       "        text-align: right;\n",
       "    }\n",
       "</style>\n",
       "<table border=\"1\" class=\"dataframe\">\n",
       "  <thead>\n",
       "    <tr style=\"text-align: right;\">\n",
       "      <th></th>\n",
       "      <th>CLICKS</th>\n",
       "      <th>CONVERSIONS</th>\n",
       "      <th>COST</th>\n",
       "      <th>IMPRESSIONS</th>\n",
       "      <th>CPA</th>\n",
       "      <th>CPC</th>\n",
       "      <th>REVENUE</th>\n",
       "      <th>ROI</th>\n",
       "    </tr>\n",
       "  </thead>\n",
       "  <tbody>\n",
       "    <tr>\n",
       "      <th>CLICKS</th>\n",
       "      <td>1.000000</td>\n",
       "      <td>0.872045</td>\n",
       "      <td>0.714649</td>\n",
       "      <td>0.988195</td>\n",
       "      <td>0.370648</td>\n",
       "      <td>0.068219</td>\n",
       "      <td>0.820225</td>\n",
       "      <td>0.038243</td>\n",
       "    </tr>\n",
       "    <tr>\n",
       "      <th>CONVERSIONS</th>\n",
       "      <td>0.872045</td>\n",
       "      <td>1.000000</td>\n",
       "      <td>0.667618</td>\n",
       "      <td>0.840690</td>\n",
       "      <td>0.192253</td>\n",
       "      <td>0.070085</td>\n",
       "      <td>0.963719</td>\n",
       "      <td>0.081727</td>\n",
       "    </tr>\n",
       "    <tr>\n",
       "      <th>COST</th>\n",
       "      <td>0.714649</td>\n",
       "      <td>0.667618</td>\n",
       "      <td>1.000000</td>\n",
       "      <td>0.680405</td>\n",
       "      <td>0.415433</td>\n",
       "      <td>0.201348</td>\n",
       "      <td>0.574370</td>\n",
       "      <td>-0.007120</td>\n",
       "    </tr>\n",
       "    <tr>\n",
       "      <th>IMPRESSIONS</th>\n",
       "      <td>0.988195</td>\n",
       "      <td>0.840690</td>\n",
       "      <td>0.680405</td>\n",
       "      <td>1.000000</td>\n",
       "      <td>0.387098</td>\n",
       "      <td>0.064009</td>\n",
       "      <td>0.783461</td>\n",
       "      <td>0.039024</td>\n",
       "    </tr>\n",
       "    <tr>\n",
       "      <th>CPA</th>\n",
       "      <td>0.370648</td>\n",
       "      <td>0.192253</td>\n",
       "      <td>0.415433</td>\n",
       "      <td>0.387098</td>\n",
       "      <td>1.000000</td>\n",
       "      <td>0.187694</td>\n",
       "      <td>0.157350</td>\n",
       "      <td>0.020793</td>\n",
       "    </tr>\n",
       "    <tr>\n",
       "      <th>CPC</th>\n",
       "      <td>0.068219</td>\n",
       "      <td>0.070085</td>\n",
       "      <td>0.201348</td>\n",
       "      <td>0.064009</td>\n",
       "      <td>0.187694</td>\n",
       "      <td>1.000000</td>\n",
       "      <td>0.060546</td>\n",
       "      <td>-0.034985</td>\n",
       "    </tr>\n",
       "    <tr>\n",
       "      <th>REVENUE</th>\n",
       "      <td>0.820225</td>\n",
       "      <td>0.963719</td>\n",
       "      <td>0.574370</td>\n",
       "      <td>0.783461</td>\n",
       "      <td>0.157350</td>\n",
       "      <td>0.060546</td>\n",
       "      <td>1.000000</td>\n",
       "      <td>0.095306</td>\n",
       "    </tr>\n",
       "    <tr>\n",
       "      <th>ROI</th>\n",
       "      <td>0.038243</td>\n",
       "      <td>0.081727</td>\n",
       "      <td>-0.007120</td>\n",
       "      <td>0.039024</td>\n",
       "      <td>0.020793</td>\n",
       "      <td>-0.034985</td>\n",
       "      <td>0.095306</td>\n",
       "      <td>1.000000</td>\n",
       "    </tr>\n",
       "  </tbody>\n",
       "</table>\n",
       "</div>"
      ],
      "text/plain": [
       "               CLICKS  CONVERSIONS      COST  IMPRESSIONS       CPA       CPC  \\\n",
       "CLICKS       1.000000     0.872045  0.714649     0.988195  0.370648  0.068219   \n",
       "CONVERSIONS  0.872045     1.000000  0.667618     0.840690  0.192253  0.070085   \n",
       "COST         0.714649     0.667618  1.000000     0.680405  0.415433  0.201348   \n",
       "IMPRESSIONS  0.988195     0.840690  0.680405     1.000000  0.387098  0.064009   \n",
       "CPA          0.370648     0.192253  0.415433     0.387098  1.000000  0.187694   \n",
       "CPC          0.068219     0.070085  0.201348     0.064009  0.187694  1.000000   \n",
       "REVENUE      0.820225     0.963719  0.574370     0.783461  0.157350  0.060546   \n",
       "ROI          0.038243     0.081727 -0.007120     0.039024  0.020793 -0.034985   \n",
       "\n",
       "              REVENUE       ROI  \n",
       "CLICKS       0.820225  0.038243  \n",
       "CONVERSIONS  0.963719  0.081727  \n",
       "COST         0.574370 -0.007120  \n",
       "IMPRESSIONS  0.783461  0.039024  \n",
       "CPA          0.157350  0.020793  \n",
       "CPC          0.060546 -0.034985  \n",
       "REVENUE      1.000000  0.095306  \n",
       "ROI          0.095306  1.000000  "
      ]
     },
     "execution_count": 13,
     "metadata": {},
     "output_type": "execute_result"
    }
   ],
   "source": [
    "data_heat.corr()"
   ]
  },
  {
   "cell_type": "markdown",
   "metadata": {},
   "source": [
    "OUTLIER DETECTION.\n",
    "\n",
    "Many outliers can be detected in REVENUE,COST,CLICKS and IMPRESSIONS."
   ]
  },
  {
   "cell_type": "code",
   "execution_count": 14,
   "metadata": {},
   "outputs": [
    {
     "data": {
      "text/plain": [
       "<matplotlib.axes._subplots.AxesSubplot at 0x21ef710b710>"
      ]
     },
     "execution_count": 14,
     "metadata": {},
     "output_type": "execute_result"
    },
    {
     "data": {
      "image/png": "[encoded data removed]",
      "text/plain": [
       "<Figure size 432x288 with 4 Axes>"
      ]
     },
     "metadata": {
      "needs_background": "light"
     },
     "output_type": "display_data"
    }
   ],
   "source": [
    "fig,axs=plt.subplots(ncols=4)\n",
    "sns.boxplot(data.REVENUE,ax=axs[0])\n",
    "sns.boxplot(data.COST,ax=axs[1])\n",
    "sns.boxplot(data.CLICKS,ax=axs[2])\n",
    "sns.boxplot(data.IMPRESSIONS,ax=axs[3])\n"
   ]
  },
  {
   "cell_type": "markdown",
   "metadata": {},
   "source": [
    "Below Count plot shows the number of times different ads were shown to different audience groups 1,2,3 and 4.\n",
    "\n",
    "1.Clearly Ad group 3 and Ad group 4 have highest number of ads shown followed by adgroup2 and adgroup 4\n"
   ]
  },
  {
   "cell_type": "code",
   "execution_count": 15,
   "metadata": {
    "scrolled": false
   },
   "outputs": [
    {
     "data": {
      "text/plain": [
       "<matplotlib.axes._subplots.AxesSubplot at 0x21ef703efd0>"
      ]
     },
     "execution_count": 15,
     "metadata": {},
     "output_type": "execute_result"
    },
    {
     "data": {
      "image/png": "[encoded data removed]",
      "text/plain": [
       "<Figure size 432x432 with 1 Axes>"
      ]
     },
     "metadata": {
      "needs_background": "light"
     },
     "output_type": "display_data"
    }
   ],
   "source": [
    "plt.figure(figsize=(6,6))\n",
    "sns.countplot(data.ADGROUP)\n"
   ]
  },
  {
   "cell_type": "markdown",
   "metadata": {},
   "source": [
    "TOP 5 REVENUE BY AD"
   ]
  },
  {
   "cell_type": "code",
   "execution_count": 16,
   "metadata": {},
   "outputs": [
    {
     "data": {
      "text/html": [
       "<div>\n",
       "<style scoped>\n",
       "    .dataframe tbody tr th:only-of-type {\n",
       "        vertical-align: middle;\n",
       "    }\n",
       "\n",
       "    .dataframe tbody tr th {\n",
       "        vertical-align: top;\n",
       "    }\n",
       "\n",
       "    .dataframe thead th {\n",
       "        text-align: right;\n",
       "    }\n",
       "</style>\n",
       "<table border=\"1\" class=\"dataframe\">\n",
       "  <thead>\n",
       "    <tr style=\"text-align: right;\">\n",
       "      <th></th>\n",
       "      <th>COST</th>\n",
       "      <th>REVENUE</th>\n",
       "    </tr>\n",
       "    <tr>\n",
       "      <th>AD</th>\n",
       "      <th></th>\n",
       "      <th></th>\n",
       "    </tr>\n",
       "  </thead>\n",
       "  <tbody>\n",
       "    <tr>\n",
       "      <th>ad 20</th>\n",
       "      <td>78.02</td>\n",
       "      <td>52028</td>\n",
       "    </tr>\n",
       "    <tr>\n",
       "      <th>ad 19</th>\n",
       "      <td>94.42</td>\n",
       "      <td>52194</td>\n",
       "    </tr>\n",
       "    <tr>\n",
       "      <th>ad 28</th>\n",
       "      <td>280.22</td>\n",
       "      <td>60420</td>\n",
       "    </tr>\n",
       "    <tr>\n",
       "      <th>ad 6</th>\n",
       "      <td>570.82</td>\n",
       "      <td>86632</td>\n",
       "    </tr>\n",
       "    <tr>\n",
       "      <th>ad 2</th>\n",
       "      <td>2080.82</td>\n",
       "      <td>136525</td>\n",
       "    </tr>\n",
       "  </tbody>\n",
       "</table>\n",
       "</div>"
      ],
      "text/plain": [
       "          COST  REVENUE\n",
       "AD                     \n",
       "ad 20    78.02    52028\n",
       "ad 19    94.42    52194\n",
       "ad 28   280.22    60420\n",
       "ad 6    570.82    86632\n",
       "ad 2   2080.82   136525"
      ]
     },
     "execution_count": 16,
     "metadata": {},
     "output_type": "execute_result"
    }
   ],
   "source": [
    "df=pd.pivot_table(data=data,index='AD',values=['REVENUE','COST'],aggfunc=np.sum)\n",
    "df.sort_values('REVENUE').tail(5)"
   ]
  },
  {
   "cell_type": "markdown",
   "metadata": {},
   "source": [
    "Below is scatter plot between COST and REVENUE for different ads.\n",
    "\n",
    "1.Filters are applied on the scatter plot for Total Revenue generated greater than 30000\n",
    "\n",
    "2.Size of the bubble is directly proportional to the total cost of the ad.Lower the size of the bubble lower is the cost.\n",
    "\n",
    "3.AD 2 has the highest revenue generated .It is also the ad where highest amount is spent.\n",
    "\n",
    "4.AD 20 and 28 has the least cost while AD 32 has high cost close to 1250 where the revenue is close to 40k."
   ]
  },
  {
   "cell_type": "code",
   "execution_count": 17,
   "metadata": {},
   "outputs": [
    {
     "data": {
      "text/plain": [
       "<matplotlib.axes._subplots.AxesSubplot at 0x21ef7394f60>"
      ]
     },
     "execution_count": 17,
     "metadata": {},
     "output_type": "execute_result"
    },
    {
     "data": {
      "image/png": "[encoded data removed]",
      "text/plain": [
       "<Figure size 576x576 with 1 Axes>"
      ]
     },
     "metadata": {
      "needs_background": "light"
     },
     "output_type": "display_data"
    }
   ],
   "source": [
    "df1=data.groupby(['AD'],as_index=False)['REVENUE'].sum()\n",
    "df2=data.groupby(['AD'],as_index=False)['COST'].sum()\n",
    "df3= pd.merge(df1,df2,on='AD',how='inner')\n",
    "df4=df3[df3['REVENUE']>30000]\n",
    "plt.figure(figsize=(8,8))\n",
    "plt.title('REVENUE VS COST BY AD')\n",
    "sns.scatterplot(df4.COST,df4.REVENUE,hue=df4.AD,size=df4.COST,sizes=(50,200))"
   ]
  },
  {
   "cell_type": "markdown",
   "metadata": {},
   "source": [
    "Top 10 least REVENUE GENERATING ADS"
   ]
  },
  {
   "cell_type": "code",
   "execution_count": 18,
   "metadata": {},
   "outputs": [
    {
     "data": {
      "text/html": [
       "<div>\n",
       "<style scoped>\n",
       "    .dataframe tbody tr th:only-of-type {\n",
       "        vertical-align: middle;\n",
       "    }\n",
       "\n",
       "    .dataframe tbody tr th {\n",
       "        vertical-align: top;\n",
       "    }\n",
       "\n",
       "    .dataframe thead th {\n",
       "        text-align: right;\n",
       "    }\n",
       "</style>\n",
       "<table border=\"1\" class=\"dataframe\">\n",
       "  <thead>\n",
       "    <tr style=\"text-align: right;\">\n",
       "      <th></th>\n",
       "      <th>AD</th>\n",
       "      <th>REVENUE</th>\n",
       "      <th>COST</th>\n",
       "    </tr>\n",
       "  </thead>\n",
       "  <tbody>\n",
       "    <tr>\n",
       "      <th>42</th>\n",
       "      <td>ad 48</td>\n",
       "      <td>0</td>\n",
       "      <td>1.09</td>\n",
       "    </tr>\n",
       "    <tr>\n",
       "      <th>30</th>\n",
       "      <td>ad 37</td>\n",
       "      <td>103</td>\n",
       "      <td>7.00</td>\n",
       "    </tr>\n",
       "    <tr>\n",
       "      <th>45</th>\n",
       "      <td>ad 50</td>\n",
       "      <td>106</td>\n",
       "      <td>0.53</td>\n",
       "    </tr>\n",
       "    <tr>\n",
       "      <th>29</th>\n",
       "      <td>ad 36</td>\n",
       "      <td>118</td>\n",
       "      <td>1.10</td>\n",
       "    </tr>\n",
       "    <tr>\n",
       "      <th>53</th>\n",
       "      <td>ad 58</td>\n",
       "      <td>136</td>\n",
       "      <td>1.48</td>\n",
       "    </tr>\n",
       "    <tr>\n",
       "      <th>27</th>\n",
       "      <td>ad 34</td>\n",
       "      <td>238</td>\n",
       "      <td>22.47</td>\n",
       "    </tr>\n",
       "    <tr>\n",
       "      <th>48</th>\n",
       "      <td>ad 53</td>\n",
       "      <td>257</td>\n",
       "      <td>5.52</td>\n",
       "    </tr>\n",
       "    <tr>\n",
       "      <th>16</th>\n",
       "      <td>ad 24</td>\n",
       "      <td>321</td>\n",
       "      <td>6.89</td>\n",
       "    </tr>\n",
       "    <tr>\n",
       "      <th>57</th>\n",
       "      <td>ad 61</td>\n",
       "      <td>777</td>\n",
       "      <td>19.68</td>\n",
       "    </tr>\n",
       "    <tr>\n",
       "      <th>47</th>\n",
       "      <td>ad 52</td>\n",
       "      <td>947</td>\n",
       "      <td>7.81</td>\n",
       "    </tr>\n",
       "  </tbody>\n",
       "</table>\n",
       "</div>"
      ],
      "text/plain": [
       "       AD  REVENUE   COST\n",
       "42  ad 48        0   1.09\n",
       "30  ad 37      103   7.00\n",
       "45  ad 50      106   0.53\n",
       "29  ad 36      118   1.10\n",
       "53  ad 58      136   1.48\n",
       "27  ad 34      238  22.47\n",
       "48  ad 53      257   5.52\n",
       "16  ad 24      321   6.89\n",
       "57  ad 61      777  19.68\n",
       "47  ad 52      947   7.81"
      ]
     },
     "execution_count": 18,
     "metadata": {},
     "output_type": "execute_result"
    }
   ],
   "source": [
    "df3.sort_values('REVENUE').head(10)"
   ]
  },
  {
   "cell_type": "markdown",
   "metadata": {},
   "source": [
    "Below Bar plot shows the Cost and also Revenue generated by different ad groups.\n",
    "\n",
    "1.Clearly Ad group1 and Ad group3 generated almost 90-95 % of the revenue.\n",
    "2.Adgroup2 and Adgroup4 have generated  negligible amount even though the number of ads shown were 600 and 800 approximately.\n",
    "3.Adgroup 1 and 3 generated almost equal revenue.\n",
    "4.The amount of money(COST) spent for each ad in adgroup 1 is more compared to ad group 3 even though adgroup1 has 30% less ads compared to adgroup3.\n",
    "5.Adgroup 2 and Adgroup4 are least interested in the ads shown."
   ]
  },
  {
   "cell_type": "code",
   "execution_count": 19,
   "metadata": {},
   "outputs": [
    {
     "data": {
      "text/plain": [
       "Text(0.5, 1.0, 'COST BREAKDOWN BY ADGROUP')"
      ]
     },
     "execution_count": 19,
     "metadata": {},
     "output_type": "execute_result"
    },
    {
     "data": {
      "image/png": "[encoded data removed]",
      "text/plain": [
       "<Figure size 432x432 with 1 Axes>"
      ]
     },
     "metadata": {
      "needs_background": "light"
     },
     "output_type": "display_data"
    }
   ],
   "source": [
    "plt.figure(figsize=(6,6))\n",
    "df=pd.pivot_table(data=data,index='ADGROUP',values='COST',aggfunc=np.sum)\n",
    "sns.barplot(df.index,df['COST'])\n",
    "plt.title(\"COST BREAKDOWN BY ADGROUP\")"
   ]
  },
  {
   "cell_type": "code",
   "execution_count": 20,
   "metadata": {},
   "outputs": [
    {
     "data": {
      "text/plain": [
       "Text(0.5, 1.0, 'REVENUE BREAKDOWN BY ADGROUP')"
      ]
     },
     "execution_count": 20,
     "metadata": {},
     "output_type": "execute_result"
    },
    {
     "data": {
      "image/png": "[encoded data removed]",
      "text/plain": [
       "<Figure size 432x432 with 1 Axes>"
      ]
     },
     "metadata": {
      "needs_background": "light"
     },
     "output_type": "display_data"
    }
   ],
   "source": [
    "plt.figure(figsize=(6,6))\n",
    "df=pd.pivot_table(data=data,index='ADGROUP',values='REVENUE',aggfunc=np.sum)\n",
    "\n",
    "sns.barplot(df.index,df['REVENUE'])\n",
    "plt.title(\"REVENUE BREAKDOWN BY ADGROUP\")"
   ]
  },
  {
   "cell_type": "markdown",
   "metadata": {},
   "source": [
    "\n",
    "Converting the data type of Date column "
   ]
  },
  {
   "cell_type": "code",
   "execution_count": 21,
   "metadata": {},
   "outputs": [
    {
     "name": "stdout",
     "output_type": "stream",
     "text": [
      "object\n",
      "datetime64[ns]\n"
     ]
    }
   ],
   "source": [
    "print(data['date'].dtype)\n",
    "data['date']=pd.to_datetime(data['date'])\n",
    "print(data['date'].dtype)"
   ]
  },
  {
   "cell_type": "code",
   "execution_count": 22,
   "metadata": {},
   "outputs": [
    {
     "ename": "SyntaxError",
     "evalue": "invalid syntax (<ipython-input-22-898ba3e7b61b>, line 1)",
     "output_type": "error",
     "traceback": [
      "\u001b[1;36m  File \u001b[1;32m\"<ipython-input-22-898ba3e7b61b>\"\u001b[1;36m, line \u001b[1;32m1\u001b[0m\n\u001b[1;33m    Below Bar plot shows the revenue genarated in months.\u001b[0m\n\u001b[1;37m            ^\u001b[0m\n\u001b[1;31mSyntaxError\u001b[0m\u001b[1;31m:\u001b[0m invalid syntax\n"
     ]
    }
   ],
   "source": [
    "Below Bar plot shows the revenue genarated in months.\n",
    "\n",
    "1.September,October and Novermber has highest revenue generation.\n",
    "\n",
    "2.January has the lowest Revenue"
   ]
  },
  {
   "cell_type": "code",
   "execution_count": null,
   "metadata": {},
   "outputs": [],
   "source": [
    "df=pd.pivot_table(data=data,index='Month',values='REVENUE',aggfunc=np.sum)\n",
    "plt.figure(figsize=(6,6))\n",
    "sns.barplot(df.index,df['REVENUE'])"
   ]
  },
  {
   "cell_type": "markdown",
   "metadata": {},
   "source": [
    "Below Bar plot shows the revenue genarated in days for 1 to 31.\n",
    "\n",
    "1.Clearly Day 8,9,10,11,26,27 and 28 have total revenue greater thena 40K.It is highlt probable that the ads shown and money spent will be highly succcessful on these days.\n",
    "\n",
    "2.In the second Bar plot of COST.Money spent on days 8,9,10 and 11 is far less compared to money spent on 26,27 and 28."
   ]
  },
  {
   "cell_type": "code",
   "execution_count": null,
   "metadata": {},
   "outputs": [],
   "source": [
    "df=pd.pivot_table(data=data,index='Day',values='REVENUE',aggfunc=np.sum)\n",
    "plt.figure(figsize=(6,6))\n",
    "sns.barplot(df.index,df['REVENUE'])"
   ]
  },
  {
   "cell_type": "code",
   "execution_count": null,
   "metadata": {},
   "outputs": [],
   "source": [
    "df=pd.pivot_table(data=data,index='Day',values='COST',aggfunc=np.sum)\n",
    "plt.figure(figsize=(6,6))\n",
    "sns.barplot(df.index,df['COST'])"
   ]
  },
  {
   "cell_type": "markdown",
   "metadata": {},
   "source": [
    "Below bar plot shows the revenue generated on days of week.\n",
    "\n",
    "1.Surprisingly Thursday has the highest total revenue while Monday has the least "
   ]
  },
  {
   "cell_type": "code",
   "execution_count": null,
   "metadata": {},
   "outputs": [],
   "source": [
    "df=pd.pivot_table(data=data,index='Weekday',values='REVENUE',aggfunc=np.sum)\n",
    "sns.barplot(df.index,df.REVENUE)"
   ]
  },
  {
   "cell_type": "markdown",
   "metadata": {},
   "source": [
    "Below Bar graph shows the revenue generated in each Quarter.Clearly Q4 has the highest and Q1 has the least."
   ]
  },
  {
   "cell_type": "code",
   "execution_count": null,
   "metadata": {},
   "outputs": [],
   "source": [
    "df=pd.pivot_table(data=data,index='Quarter',values='REVENUE',aggfunc=np.sum)\n",
    "sns.barplot(df.index,df['REVENUE'])"
   ]
  },
  {
   "cell_type": "markdown",
   "metadata": {},
   "source": [
    "Below Bar Graph shows that Revenue generated is 33.33 % MORE when the week number is ODD."
   ]
  },
  {
   "cell_type": "code",
   "execution_count": null,
   "metadata": {},
   "outputs": [],
   "source": [
    "df=pd.pivot_table(data=data,index='Week_Even',values='REVENUE',aggfunc=np.sum)\n",
    "sns.barplot(df.index,df['REVENUE'])"
   ]
  },
  {
   "cell_type": "markdown",
   "metadata": {},
   "source": [
    "Below Plot shows the revenue generated from August 2020 to February 2021.\n",
    "\n",
    "1.It can be seen that the September,October and November has the highest Revenue generated .\n",
    "\n",
    "2.These sudden spikes in Revenue generation act as outliers.\n",
    "\n",
    "3.In the remaining months it is seen that the average revenue generated per day is approximately 2500.\n",
    "\n",
    "4.In the month of September and october the amount of money spent for the ads is extremely less compared to November.Greater ROI is seen in September and October compared to November.\n",
    "\n",
    "5.From December to February respective columns appear to be a straight line as there is less amount spent leads to less impressions,less impressions means less clicks ,less clicks means less conversions and less revenue.Slight increase in the cost increased the revenue generation for the ads."
   ]
  },
  {
   "cell_type": "code",
   "execution_count": null,
   "metadata": {},
   "outputs": [],
   "source": [
    "fig,axs=plt.subplots(nrows=4)\n",
    "fig.set_size_inches(12, 8)\n",
    "sns.lineplot(data.date,data.REVENUE,ax=axs[0])\n",
    "sns.lineplot(data.date,data.COST,ax=axs[1])\n",
    "sns.lineplot(data.date,data.CLICKS,ax=axs[2])\n",
    "sns.lineplot(data.date,data.IMPRESSIONS,ax=axs[3])"
   ]
  },
  {
   "cell_type": "markdown",
   "metadata": {},
   "source": [
    "CONCLUSIONS:\n",
    "\n",
    "\n",
    "1.adgroup 1 and 3 are high revenue generating audience groups .Therefore spending more amount of money on these groups leads to more revenue.\n",
    "\n",
    "2.Christmas and New year time has least revenue.\n",
    "\n",
    "3.September,October and November have seen the biggest spikes in revenue which is maybe due to the festivals if the data is based on Indian population.\n",
    "\n",
    "4.ODD week number has generated 33.33 % more Revenue than Even week number.\n",
    "\n",
    "5.AD 2 has the highest total revenue with 1.35 LAC while AD 48 has zero total revenue.\n",
    "\n",
    "6.Many other data analysis can be done with the help dashboard made in power.Q and A is useful in asking meaningful business related queries.    "
   ]
  },
  {
   "cell_type": "code",
   "execution_count": null,
   "metadata": {},
   "outputs": [],
   "source": []
  }
 ],
 "metadata": {
  "kernelspec": {
   "display_name": "Python 3",
   "language": "python",
   "name": "python3"
  },
  "language_info": {
   "codemirror_mode": {
    "name": "ipython",
    "version": 3
   },
   "file_extension": ".py",
   "mimetype": "text/x-python",
   "name": "python",
   "nbconvert_exporter": "python",
   "pygments_lexer": "ipython3",
   "version": "3.7.3"
  }
 },
 "nbformat": 4,
 "nbformat_minor": 2
}
